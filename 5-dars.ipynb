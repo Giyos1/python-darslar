{
 "cells": [
  {
   "cell_type": "code",
   "execution_count": 8,
   "metadata": {
    "collapsed": true,
    "pycharm": {
     "name": "#%%\n"
    }
   },
   "outputs": [
    {
     "name": "stdout",
     "output_type": "stream",
     "text": [
      "Bog'bon ko'chasi, Sog'bon mahallasi, Bodomzor tumani, Samarqand shahri\n"
     ]
    }
   ],
   "source": [
    "# 4 dars uyga vazifalari\n",
    "kocha = \"Bog'bon\"\n",
    "mahalla = \"Sog'bon\"\n",
    "tuman = \"Bodomzor\"\n",
    "viloyat = \"Samarqand\"\n",
    "\n",
    "print(f\"{kocha} ko'chasi, {mahalla} mahallasi, {tuman} tumani, {viloyat} shahri\")"
   ]
  },
  {
   "cell_type": "code",
   "execution_count": 9,
   "outputs": [
    {
     "name": "stdout",
     "output_type": "stream",
     "text": [
      "Tavois ko'chasi, Tavois mahallasi, Qiziltepa tumani, Navoi shahri\n"
     ]
    }
   ],
   "source": [
    "kocha = input('kochani kiriting iltimos!>>>')\n",
    "mahalla = input('mahalla kiriting iltimos!>>>')\n",
    "tuman = input('tuman kiriting iltimos!>>>')\n",
    "viloyat = input('viloyat kiriting iltimos!>>>')\n",
    "\n",
    "print(f\"{kocha} ko'chasi, {mahalla} mahallasi, {tuman} tumani, {viloyat} shahri\")\n"
   ],
   "metadata": {
    "collapsed": false,
    "pycharm": {
     "name": "#%%\n"
    }
   }
  },
  {
   "cell_type": "code",
   "execution_count": 16,
   "outputs": [
    {
     "name": "stdout",
     "output_type": "stream",
     "text": [
      "Bog'bon ko'chasi,\n",
      "Sog'bon mahallasi,\n",
      "Bodomzor tumani,\n",
      "Samarqand shahri\n"
     ]
    }
   ],
   "source": [
    "kocha = \"Bog'bon\"\n",
    "mahalla = \"Sog'bon\"\n",
    "tuman = \"Bodomzor\"\n",
    "viloyat = \"Samarqand\"\n",
    "\n",
    "print(f\"\"\"{kocha} ko'chasi,\n",
    "{mahalla} mahallasi,\n",
    "{tuman} tumani,\n",
    "{viloyat} shahri\"\"\")"
   ],
   "metadata": {
    "collapsed": false,
    "pycharm": {
     "name": "#%%\n"
    }
   }
  },
  {
   "cell_type": "code",
   "execution_count": 23,
   "outputs": [
    {
     "name": "stdout",
     "output_type": "stream",
     "text": [
      "Bog'bon ko'chasi, sog'bon mahallasi, bodomzor tumani, samarqand shahri\n"
     ]
    }
   ],
   "source": [
    "kocha = \"bog'bon\"\n",
    "mahalla = \"Sog'bon\"\n",
    "tuman = \"Bodomzor\"\n",
    "viloyat = \"Samarqand\"\n",
    "\n",
    "manzil = f\"{kocha} ko'chasi, {mahalla} mahallasi, {tuman} tumani, {viloyat} shahri\"\n",
    "\n",
    "print(manzil.capitalize())"
   ],
   "metadata": {
    "collapsed": false,
    "pycharm": {
     "name": "#%%\n"
    }
   }
  },
  {
   "cell_type": "code",
   "execution_count": 36,
   "outputs": [
    {
     "name": "stdout",
     "output_type": "stream",
     "text": [
      "2 musbatmi? True\n",
      "2 toq sonmi? False\n",
      "2 juft sonmi? True\n",
      "2 2 dan katta va 3 3 dan kichik yoki tengmi ? False\n"
     ]
    }
   ],
   "source": [
    "# 5 - dars,Boolean mantiqiy qiymat\n",
    "\n",
    "A = int(input('1 - butun soni kiriting!!!>>>'))\n",
    "B = int(input('2 - butun soni kiriting!!!>>>'))\n",
    "# > katta , < kichik,  == teng,  >= katta yoki teng ,<= kichik yoki teng,\n",
    "\n",
    "mantiqiy_ozgaruvchi = A > 0  # 0 dan katta har qanday son musbat son\n",
    "\n",
    "toq_son = A % 2 == 1  # 2 ga bolganimizda 1 qoldiq qolsa demak u toq son\n",
    "\n",
    "juft_son = A % 2 == 0\n",
    "\n",
    "# and--va, or -- yoki\n",
    "\n",
    "xolat = A > 2 and B <= 3\n",
    "\n",
    "print(f'{A} musbatmi? {mantiqiy_ozgaruvchi}')\n",
    "print(f'{A} toq sonmi? {toq_son}')\n",
    "print(f'{A} juft sonmi? {juft_son}')\n",
    "print(f'{A} 2 dan katta va {B} 3 dan kichik yoki tengmi ? {xolat}')\n",
    "\n",
    "\n",
    "\n"
   ],
   "metadata": {
    "collapsed": false,
    "pycharm": {
     "name": "#%%\n"
    }
   }
  },
  {
   "cell_type": "code",
   "execution_count": 13,
   "outputs": [
    {
     "name": "stdout",
     "output_type": "stream",
     "text": [
      "1jsc 2skc 3hsh\n",
      "4s 5jsc 6skc\n",
      "7hsh 8s jsc\n",
      "skc hsh s\n",
      "jsc skc hsh s jsc\n"
     ]
    }
   ],
   "source": [
    "text_list = ['1jsc', '2skc', '3hsh','4s', '5jsc', '6skc', '7hsh', '8s', 'jsc', 'skc', 'hsh','s', 'jsc', 'skc', 'hsh','s', 'jsc' ]\n",
    "\n",
    "while len(text_list) > 5:\n",
    "   print(\" \".join(text_list[0:3]))\n",
    "   text_list = text_list[3:]\n",
    "if len(text_list) > 0:\n",
    "   print(\" \".join(text_list))"
   ],
   "metadata": {
    "collapsed": false,
    "pycharm": {
     "name": "#%%\n"
    }
   }
  },
  {
   "cell_type": "code",
   "execution_count": null,
   "outputs": [],
   "source": [],
   "metadata": {
    "collapsed": false,
    "pycharm": {
     "name": "#%%\n",
     "is_executing": true
    }
   }
  },
  {
   "cell_type": "code",
   "execution_count": 3,
   "outputs": [],
   "source": [],
   "metadata": {
    "collapsed": false,
    "pycharm": {
     "name": "#%%\n"
    }
   }
  }
 ],
 "metadata": {
  "kernelspec": {
   "display_name": "Python 3",
   "language": "python",
   "name": "python3"
  },
  "language_info": {
   "codemirror_mode": {
    "name": "ipython",
    "version": 2
   },
   "file_extension": ".py",
   "mimetype": "text/x-python",
   "name": "python",
   "nbconvert_exporter": "python",
   "pygments_lexer": "ipython2",
   "version": "2.7.6"
  }
 },
 "nbformat": 4,
 "nbformat_minor": 0
}