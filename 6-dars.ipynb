{
 "cells": [
  {
   "cell_type": "code",
   "execution_count": 1,
   "metadata": {
    "collapsed": true,
    "pycharm": {
     "name": "#%%\n"
    }
   },
   "outputs": [
    {
     "name": "stdout",
     "output_type": "stream",
     "text": [
      "13  12 dan  katta yoki teng va 13 19 dan kichik yoki teng? True\n"
     ]
    }
   ],
   "source": [
    "# 5 dars vazifasi\n",
    "# Boolean\n",
    "\n",
    "a = int(input('a='))\n",
    "b = int(input('b='))\n",
    "c = int(input('c='))\n",
    "\n",
    "holat = a <= b <= c\n",
    "\n",
    "print(f'{b}  {a} dan  katta yoki teng va {b} {c} dan kichik yoki teng? {holat}')"
   ]
  },
  {
   "cell_type": "code",
   "execution_count": 3,
   "outputs": [
    {
     "name": "stdout",
     "output_type": "stream",
     "text": [
      "12dan katta False va  2  dan katta True? False\n"
     ]
    }
   ],
   "source": [
    "a = int(input('a='))\n",
    "b = int(input('b='))\n",
    "c = int(input('c='))\n",
    "holat = a < b > c\n",
    "print(f'{a}dan katta {a < b} va  {c}  dan katta {c < b}? {holat}')"
   ],
   "metadata": {
    "collapsed": false,
    "pycharm": {
     "name": "#%%\n"
    }
   }
  },
  {
   "cell_type": "code",
   "execution_count": 26,
   "outputs": [
    {
     "name": "stdout",
     "output_type": "stream",
     "text": [
      "12a\n",
      "Birinchi meva:  Anjir\n",
      "Ikkinchi meva:  True\n",
      "28900\n",
      "<class 'bool'>\n",
      "Volkswagen\n",
      "14000\n",
      "13000\n",
      "['olma', 'anjir', 'shaftoli', \"o'rik\", 'tarvuz']\n",
      "['Lacetti', 'Nexia 3', 'Cobalt', 12]\n",
      "['Lacetti', 'Malibu', 'Nexia 3', 'Cobalt']\n",
      "['Lacetti', 'Malibu', 'Damas', 'Nexia 3', 'Cobalt']\n"
     ]
    }
   ],
   "source": [
    "a = \"sjdfjsnd\"\n",
    "c = 122\n",
    "b = 12.5\n",
    "# str , integer, float , boolean,  List(bir nechta ozgaruvchini saqlaymiz)\n",
    "mevalar = [\"anjir\", \"olma\", \"anor\", \"shaftoli\",\n",
    "           \"bexi\"]  # List ozgaruvchi nomi mevalar, elementlari qiymati-> \"anjir\", \"olma\", \"anor\", \"shaftoli\", \"bexi\" , elemtlari tipi string\n",
    "\n",
    "narhlar = [12000, 18000, 10900, 22000]  # list ozgaruvchi nomi narhlar, listimizdagi elementlar tipi integer\n",
    "#            0    1      2  3  4    5\n",
    "sonlar = ['bir', 'ikki', 3, 4, 5, c > b]  #  listimizdagi elemntlar tipi aralashm yani str va integer\n",
    "\n",
    "a = 12\n",
    "b = \"a\"\n",
    "\n",
    "print(str(a) + b)\n",
    "\n",
    "ismlar = []  # bosh list\n",
    "\n",
    "print(\"Birinchi meva: \", mevalar[0].title())\n",
    "print(\"Ikkinchi meva: \", mevalar[1].islower())  # islower str methodi u kichikmi degan holatda True yoki False qaytaradi\n",
    "\n",
    "print(narhlar[-2] + narhlar[-3])\n",
    "\n",
    "print(type(sonlar[5]))\n",
    "\n",
    "#              -7     -6     -5       -4        -3         -2            -1\n",
    "car_models = ['Toyota', 'GM', 'Volvo', 'BMW', 'Hyundai', 'Kia', 'Volkswagen']\n",
    "#               0         1     2        3          4     5           6\n",
    "\n",
    "\n",
    "print(car_models[-1])  # Listning eng oxirgi elementiga -1 bilan murojat qilamiz\n",
    "\n",
    "narhlar = [12000, 18000, 10900, 22000]\n",
    "narhlar[0] = 13000  # 1-qiymatni 13000 ga o'zgartiramiz\n",
    "narhlar[2] = 11000  # 3-qiymatni 11000 ga o'zgartiramiz\n",
    "narhlar[3] = narhlar[3] + 2000  # 4-qiymatga 2000 qo'shamiz\n",
    "print(narhlar[0] + 1000)\n",
    "print(narhlar[0])\n",
    "\n",
    "mevalar = ['olma', 'anjir', 'shaftoli', \"o'rik\"]\n",
    "mevalar.append(\"tarvuz\")  # mevalar ga tarvuz qo'shamiz\n",
    "print(mevalar)\n",
    "\n",
    "cars = []  # bo'sh ro'yxat yaratamiz\n",
    "cars.append('Lacetti')  # ro'yxatga Lacetti mashinasini qo'shamiz\n",
    "cars.append('Nexia 3')  # ro'yxatga Nexia 3 mashinasini qo'shamiz\n",
    "cars.append('Cobalt')  # ro'yxatga Cobalt  mashinasini qo'shamiz\n",
    "cars.append(12)  # ro'yxatga Cobalt  mashinasini qo'shamiz\n",
    "print(cars)\n",
    "\n",
    "cars = ['Lacetti', 'Nexia 3', 'Cobalt']\n",
    "cars.insert(1, 'Malibu')  # 1-o'ringa yangi qiymat qo'shamiz\n",
    "print(cars)\n",
    "\n",
    "cars.insert(2, 'Damas')  # 3-o'ringa yangi qiymat qo'shamiz\n",
    "print(cars)"
   ],
   "metadata": {
    "collapsed": false,
    "pycharm": {
     "name": "#%%\n"
    }
   }
  },
  {
   "cell_type": "code",
   "execution_count": 31,
   "outputs": [
    {
     "name": "stdout",
     "output_type": "stream",
     "text": [
      "['olma', 'shaftoli', \"o'rik\", 'anor']\n",
      "['olma', \"o'rik\", 'anor']\n",
      "['it', 'sigir', \"qo'y\", 'quyon', 'mushuk']\n",
      "Men banan sotib oldim\n",
      "Olinmagan mahsulotlar:  [\"yog'\", 'un', 'piyoz', \"go'sht\"]\n"
     ]
    }
   ],
   "source": [
    "# listdagi elementni ochirish\n",
    "\n",
    "mevalar = ['olma', 'anjir', 'shaftoli', \"o'rik\", 'anor']\n",
    "del mevalar[1]  # 2-element (anjir) ni o'chirib tashlaymiz\n",
    "print(mevalar)\n",
    "\n",
    "mevalar.remove('shaftoli')  # Ro'yxatdan shaftolini o'chirdik\n",
    "print(mevalar)\n",
    "\n",
    "hayvonlar = ['it', 'mushuk', 'sigir', 'qo\\'y', 'quyon', 'mushuk']\n",
    "hayvonlar.remove(\"mushuk\")  # Ro'yxatda 2 ta mushuk bor, ulardan birinchisi o'chadi\n",
    "print(hayvonlar)\n",
    "\n",
    "bozorlik = [\"yog'\", 'un', 'piyoz', 'banan', \"go'sht\"]\n",
    "mahsulot = bozorlik.pop(3)  # Ro'yxatdan banan ni sug'urib olamiz\n",
    "print(\"Men \" + mahsulot + \" sotib oldim\")\n",
    "print(\"Olinmagan mahsulotlar: \", bozorlik)\n"
   ],
   "metadata": {
    "collapsed": false,
    "pycharm": {
     "name": "#%%\n"
    }
   }
  },
  {
   "cell_type": "code",
   "execution_count": 39,
   "outputs": [
    {
     "name": "stdout",
     "output_type": "stream",
     "text": [
      "Hello, World!\n",
      "13\n",
      "llo\n"
     ]
    }
   ],
   "source": [
    "# string  Listdir\n",
    "#    0123456789101112\n",
    "a = \"Hello, World!\"\n",
    "\n",
    "print(a)\n",
    "print(len(a))\n",
    "\n",
    "# stringni kesib olish\n",
    "\n",
    "b = \"Hello, World!\"\n",
    "print(b[2:5])"
   ],
   "metadata": {
    "collapsed": false,
    "pycharm": {
     "name": "#%%\n"
    }
   }
  },
  {
   "cell_type": "code",
   "execution_count": 40,
   "outputs": [
    {
     "name": "stdout",
     "output_type": "stream",
     "text": [
      "Hello\n"
     ]
    }
   ],
   "source": [
    "b = \"Hello, World!\"\n",
    "print(b[:5])"
   ],
   "metadata": {
    "collapsed": false,
    "pycharm": {
     "name": "#%%\n"
    }
   }
  },
  {
   "cell_type": "code",
   "execution_count": 42,
   "outputs": [
    {
     "name": "stdout",
     "output_type": "stream",
     "text": [
      "llo, World!\n",
      "orl\n"
     ]
    }
   ],
   "source": [
    "b = \"Hello, World!\"\n",
    "print(b[2:])\n",
    "print(b[-5:-2])\n"
   ],
   "metadata": {
    "collapsed": false,
    "pycharm": {
     "name": "#%%\n"
    }
   }
  },
  {
   "cell_type": "code",
   "execution_count": 43,
   "outputs": [
    {
     "name": "stdout",
     "output_type": "stream",
     "text": [
      "Jello, World!\n"
     ]
    }
   ],
   "source": [
    "a = \"Hello, World!\"\n",
    "\n",
    "a[0] = \"J\"\n",
    "print(a.replace(\"H\", \"J\"))"
   ],
   "metadata": {
    "collapsed": false,
    "pycharm": {
     "name": "#%%\n"
    }
   }
  },
  {
   "cell_type": "code",
   "execution_count": 5,
   "outputs": [
    {
     "name": "stdout",
     "output_type": "stream",
     "text": [
      "['Iln Musk']\n",
      "Men tarixiy shaxslardan Amir Temur bilan,zamonaviy shahslardan esa Bell Gates bilan suhbat qilishni istar edim\n"
     ]
    }
   ],
   "source": [
    "t_shaxslar = ['Alisher Navoiy', 'Amir Temur', 'Mahmud']\n",
    "z_shaxslar = ['Bell Gates', \"Iln Musk\"]\n",
    "t_shaxslar = t_shaxslar.pop(1)\n",
    "z = z_shaxslar.pop(0)\n",
    "print(z_shaxslar)\n",
    "print(\"Men tarixiy shaxslardan\" + ' ' + t_shaxslar + ' ' + \"bilan,\"\n",
    "                                                           \"zamonaviy shahslardan esa\" + ' ' + z + ' ' + \"bilan suhbat qilishni istar edim\")"
   ],
   "metadata": {
    "collapsed": false,
    "pycharm": {
     "name": "#%%\n"
    }
   }
  },
  {
   "cell_type": "code",
   "execution_count": 12,
   "outputs": [
    {
     "ename": "IndexError",
     "evalue": "pop index out of range",
     "output_type": "error",
     "traceback": [
      "\u001B[1;31m---------------------------------------------------------------------------\u001B[0m",
      "\u001B[1;31mIndexError\u001B[0m                                Traceback (most recent call last)",
      "Cell \u001B[1;32mIn [12], line 13\u001B[0m\n\u001B[0;32m     10\u001B[0m mehmonlar\u001B[38;5;241m.\u001B[39mappend(friends\u001B[38;5;241m.\u001B[39mpop(\u001B[38;5;241m0\u001B[39m))\n\u001B[0;32m     11\u001B[0m friends \u001B[38;5;241m=\u001B[39m [\u001B[38;5;124m'\u001B[39m\u001B[38;5;124mSarvar\u001B[39m\u001B[38;5;124m'\u001B[39m]\n\u001B[1;32m---> 13\u001B[0m mehmonlar\u001B[38;5;241m.\u001B[39mappend(\u001B[43mfriends\u001B[49m\u001B[38;5;241;43m.\u001B[39;49m\u001B[43mpop\u001B[49m\u001B[43m(\u001B[49m\u001B[38;5;241;43m1\u001B[39;49m\u001B[43m)\u001B[49m)\n\u001B[0;32m     15\u001B[0m \u001B[38;5;28mprint\u001B[39m(friends)\n\u001B[0;32m     18\u001B[0m \u001B[38;5;66;03m# mehmonlardi boshatib Asilbek di joylab qoyadi\u001B[39;00m\n\u001B[0;32m     19\u001B[0m \u001B[38;5;66;03m# bazimga_keladiganlar = friends.pop(0)  # Asilbek\u001B[39;00m\n",
      "\u001B[1;31mIndexError\u001B[0m: pop index out of range"
     ]
    }
   ],
   "source": [
    "friends = ['Asilbek', 'Umrbek', 'Elbek', 'Sarvar']\n",
    "mehmonlar = []\n",
    "\n",
    "mehmonlar.append(friends.pop(0))\n",
    "\n",
    "mehmonlar.append(friends.pop(0))\n",
    "\n",
    "mehmonlar.append(friends.pop(0))\n",
    "\n",
    "mehmonlar.append(friends.pop(0))\n",
    "\n",
    "print(friends)\n",
    "\n",
    "# mehmonlardi boshatib Asilbek di joylab qoyadi\n",
    "# bazimga_keladiganlar = friends.pop(0)  # Asilbek\n",
    "print(mehmonlar)"
   ],
   "metadata": {
    "collapsed": false,
    "pycharm": {
     "name": "#%%\n"
    }
   }
  },
  {
   "cell_type": "code",
   "execution_count": 15,
   "outputs": [],
   "source": [
    "import turtle\n",
    "\n",
    "t = turtle.Pen()\n",
    "t.forward(50)\n",
    "t.left(90)\n",
    "t.forward(50)\n",
    "t.left(90)\n",
    "t.forward(50)\n",
    "t.left(90)\n",
    "t.forward(50)\n",
    "t.reset()\n",
    "for x in range(1, 5):\n",
    " t.forward(50)\n",
    " t.left(90)"
   ],
   "metadata": {
    "collapsed": false,
    "pycharm": {
     "name": "#%%\n"
    }
   }
  },
  {
   "cell_type": "code",
   "execution_count": null,
   "outputs": [],
   "source": [],
   "metadata": {
    "collapsed": false,
    "pycharm": {
     "name": "#%%\n"
    }
   }
  }
 ],
 "metadata": {
  "kernelspec": {
   "display_name": "Python 3",
   "language": "python",
   "name": "python3"
  },
  "language_info": {
   "codemirror_mode": {
    "name": "ipython",
    "version": 2
   },
   "file_extension": ".py",
   "mimetype": "text/x-python",
   "name": "python",
   "nbconvert_exporter": "python",
   "pygments_lexer": "ipython2",
   "version": "2.7.6"
  }
 },
 "nbformat": 4,
 "nbformat_minor": 0
}