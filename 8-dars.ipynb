{
 "cells": [
  {
   "cell_type": "code",
   "execution_count": 11,
   "metadata": {
    "collapsed": true,
    "pycharm": {
     "name": "#%%\n"
    }
   },
   "outputs": [
    {
     "name": "stdout",
     "output_type": "stream",
     "text": [
      "['13', 'Bmw', 'audi', 'general motors', 'mercedes benz', 'tesla', 'volvo']\n",
      "['13', 'Bmw', 'audi', 'general motors', 'mercedes benz', 'tesla', 'volvo']\n"
     ]
    }
   ],
   "source": [
    "#08 RO'YXATLAR BILAN ISHLASH\n",
    "\n",
    "cars = ['Bmw', 'mercedes benz', '13', 'volvo', 'general motors', 'tesla', 'audi']\n",
    "print(sorted(cars))\n",
    "cars.sort()\n",
    "print(cars)"
   ]
  },
  {
   "cell_type": "code",
   "execution_count": 12,
   "outputs": [
    {
     "name": "stdout",
     "output_type": "stream",
     "text": [
      "10\n",
      "Elementlar soni: 5\n"
     ]
    }
   ],
   "source": [
    "# ro'yxatni uzinligini topish\n",
    "\n",
    "fruits = ['pear', 'banana', 'apple', 'watermelon', 'lemon']\n",
    "a = 'agcgdsygbc'\n",
    "print(len(a))\n",
    "print(\"Elementlar soni:\", len(fruits))  # len(fruits) ro'yxat uzunligini qaytaradi"
   ],
   "metadata": {
    "collapsed": false,
    "pycharm": {
     "name": "#%%\n"
    }
   }
  },
  {
   "cell_type": "code",
   "execution_count": 37,
   "outputs": [
    {
     "name": "stdout",
     "output_type": "stream",
     "text": [
      "[0, 1, 2, 3, 4, 5, 6, 7, 8, 9, 10]\n",
      "[0, 3, 6, 9]\n"
     ]
    }
   ],
   "source": [
    "sonlar = list(range(0, 100))  #\n",
    "\n",
    "print(list(range(0, 11)))\n",
    "\n",
    "print(list(range(0, 10, 3)))\n"
   ],
   "metadata": {
    "collapsed": false,
    "pycharm": {
     "name": "#%%\n"
    }
   }
  },
  {
   "cell_type": "code",
   "execution_count": 21,
   "outputs": [
    {
     "name": "stdout",
     "output_type": "stream",
     "text": [
      "Eng arzon narh  12 . Eng qimmati  32874 . Jami:  116305\n"
     ]
    }
   ],
   "source": [
    "# royxatlar ustida amalar baJARISH\n",
    "\n",
    "narhlar = [12000, 22500, 23456, 9800, 5600, 9934, 32874]\n",
    "arzon = min(narhlar)  # min list ichidagi eng kichkina elementni qaytaradi\n",
    "qimmat = max(narhlar)  # max listdagi eng katta elementni qaytaradi\n",
    "jami = sum(narhlar)  # sum listdagi barja elementlarni qoshadi\n",
    "narxlar = []\n",
    "a = int(input('1- soni kiriting >>>'))\n",
    "b = int(input('2- soni kiriting >>>'))\n",
    "c = int(input('3- soni kiriting >>>'))\n",
    "d = int(input('4- soni kiriting >>>'))\n",
    "v = int(input('5- soni kiriting >>>'))\n",
    "\n",
    "narhlar.append(a)\n",
    "narhlar.append(b)\n",
    "narhlar.append(c)\n",
    "narhlar.append(d)\n",
    "narhlar.append(v)\n",
    "\n",
    "arzon = min(narhlar)  # min list ichidagi eng kichkina elementni qaytaradi\n",
    "qimmat = max(narhlar)  # max listdagi eng katta elementni qaytaradi\n",
    "jami = sum(narhlar)  # sum listdagi barja elementlarni qoshadi\n",
    "\n",
    "print(\"Eng arzon narh \", arzon, \". Eng qimmati \", qimmat, \". Jami: \", jami)"
   ],
   "metadata": {
    "collapsed": false,
    "pycharm": {
     "name": "#%%\n"
    }
   }
  },
  {
   "cell_type": "code",
   "execution_count": 43,
   "outputs": [
    {
     "name": "stdout",
     "output_type": "stream",
     "text": [
      "['bmw', 'volvo', 'tesla']\n"
     ]
    }
   ],
   "source": [
    "# royxatni kesish\n",
    "\n",
    "cars = ['bmw', 'mercedes benz', 'volvo', 'general motors', 'tesla', 'audi']\n",
    "# my_cars = cars[0:3]  # 0-indeskdan boshlab 3 ta element ajratib olamiz\n",
    "# my_cars = cars[1:4]\n",
    "# my_cars =cars[:]\n",
    "# my_cars = cars[0:]\n",
    "my_cars = cars[0:6:2]\n",
    "print(my_cars)"
   ],
   "metadata": {
    "collapsed": false,
    "pycharm": {
     "name": "#%%\n"
    }
   }
  },
  {
   "cell_type": "code",
   "execution_count": 47,
   "outputs": [
    {
     "name": "stdout",
     "output_type": "stream",
     "text": [
      "Bu sonlar ro'yxati: [1, 2, 3, 4, 5]\n",
      "Bu sonlar2 ro'yxati: [2, 3, 4, 6, 7]\n",
      "a 12 b 16\n"
     ]
    }
   ],
   "source": [
    "# sonlar = [1, 2, 3, 4, 5]  # donlar degan ro'yxat yaratamiz\n",
    "# sonlar2 = sonlar  # sonlar2 degan ro'yxatni sonlar ga tenglaymiz  [1, 2, 3, 4, 5]\n",
    "# sonlar2.append(6)  # sonlar2 ga 6 sonini qo'shamiz [1, 2, 3, 4, 5, 6]\n",
    "# sonlar2.append(7)  # sonlar2 ga 7 sonini qo'shamiz [1, 2, 3, 4, 5, 6 ,7]\n",
    "\n",
    "sonlar = [1, 2, 3, 4, 5]  # donlar degan ro'yxat yaratamiz\n",
    "sonlar2 = sonlar[1:4]  # sonlar2 degan ro'yxatni sonlar ga tenglaymiz  [1, 2, 3, 4, 5]\n",
    "sonlar2.append(6)  # sonlar2 ga 6 sonini qo'shamiz [1, 2, 3, 4, 5, 6]\n",
    "sonlar2.append(7)  # sonlar2 ga 7 sonini qo'shamiz [1, 2, 3, 4, 5, 6 ,7]\n",
    "\n",
    "print(\"Bu sonlar ro'yxati:\", sonlar)\n",
    "print(\"Bu sonlar2 ro'yxati:\", sonlar2)\n",
    "\n",
    "a = 12\n",
    "b = a\n",
    "b = b + 4\n",
    "print(\"a\", a, \"b\", b)  # a = 12 , b= 16"
   ],
   "metadata": {
    "collapsed": false,
    "pycharm": {
     "name": "#%%\n"
    }
   }
  },
  {
   "cell_type": "code",
   "execution_count": 62,
   "outputs": [
    {
     "name": "stdout",
     "output_type": "stream",
     "text": [
      "[2, 34, 4, 5]\n",
      "kgcdvjcvd\n"
     ]
    },
    {
     "ename": "TypeError",
     "evalue": "'list' object is not callable",
     "output_type": "error",
     "traceback": [
      "\u001B[1;31m---------------------------------------------------------------------------\u001B[0m",
      "\u001B[1;31mTypeError\u001B[0m                                 Traceback (most recent call last)",
      "Cell \u001B[1;32mIn [62], line 14\u001B[0m\n\u001B[0;32m     11\u001B[0m \u001B[38;5;28mprint\u001B[39m(a)\n\u001B[0;32m     13\u001B[0m toys \u001B[38;5;241m=\u001B[39m (\u001B[38;5;124m'\u001B[39m\u001B[38;5;124mbus\u001B[39m\u001B[38;5;124m'\u001B[39m, \u001B[38;5;124m'\u001B[39m\u001B[38;5;124mcar\u001B[39m\u001B[38;5;124m'\u001B[39m, \u001B[38;5;124m'\u001B[39m\u001B[38;5;124mbear\u001B[39m\u001B[38;5;124m'\u001B[39m, \u001B[38;5;124m'\u001B[39m\u001B[38;5;124mdino\u001B[39m\u001B[38;5;124m'\u001B[39m, \u001B[38;5;124m'\u001B[39m\u001B[38;5;124msnake\u001B[39m\u001B[38;5;124m'\u001B[39m, \u001B[38;5;124m'\u001B[39m\u001B[38;5;124mlizard\u001B[39m\u001B[38;5;124m'\u001B[39m)  \u001B[38;5;66;03m# o'zgarmas ro'yxat\u001B[39;00m\n\u001B[1;32m---> 14\u001B[0m toys \u001B[38;5;241m=\u001B[39m \u001B[38;5;28;43mlist\u001B[39;49m\u001B[43m(\u001B[49m\u001B[43mtoys\u001B[49m\u001B[43m)\u001B[49m  \u001B[38;5;66;03m# o'zgarmas ro'yxatni oddiy ro'yxatga (List) aylantiramiz\u001B[39;00m\n\u001B[0;32m     15\u001B[0m \u001B[38;5;66;03m# Ro'yxatga o'zgartirishlar kiritamiz\u001B[39;00m\n\u001B[0;32m     16\u001B[0m toys\u001B[38;5;241m.\u001B[39mappend(\u001B[38;5;124m'\u001B[39m\u001B[38;5;124mdragon\u001B[39m\u001B[38;5;124m'\u001B[39m)\n",
      "\u001B[1;31mTypeError\u001B[0m: 'list' object is not callable"
     ]
    }
   ],
   "source": [
    "# tuple va list farqi\n",
    "\n",
    "list1 = [1, 34, 4, 5]\n",
    "tuple = (1, 34, 4, 5)\n",
    "list1[0] = 2\n",
    "print(list1)\n",
    "# tuple = list(tuple)\n",
    "# tuple[0] = 2\n",
    "# a = 'jgcdvjcvd'\n",
    "# a = \"k\" + a[1:]\n",
    "print(a)\n",
    "\n",
    "toys = ('bus', 'car', 'bear', 'dino', 'snake', 'lizard')  # o'zgarmas ro'yxat\n",
    "toys = list(toys)  # o'zgarmas ro'yxatni oddiy ro'yxatga (List) aylantiramiz\n",
    "# Ro'yxatga o'zgartirishlar kiritamiz\n",
    "toys.append('dragon')\n",
    "toys.remove('bus')\n",
    "toys[1] = 'mcqueen'\n",
    "toys = tuple(toys)  # Ro'yxatni qaytadan o'zgarmas ro'yxatga (Tuple) aylantiramiz\n",
    "print(toys)"
   ],
   "metadata": {
    "collapsed": false,
    "pycharm": {
     "name": "#%%\n"
    }
   }
  },
  {
   "cell_type": "code",
   "execution_count": null,
   "outputs": [],
   "source": [],
   "metadata": {
    "collapsed": false,
    "pycharm": {
     "name": "#%%\n",
     "is_executing": true
    }
   }
  },
  {
   "cell_type": "code",
   "execution_count": 55,
   "outputs": [],
   "source": [],
   "metadata": {
    "collapsed": false,
    "pycharm": {
     "name": "#%%\n"
    }
   }
  }
 ],
 "metadata": {
  "kernelspec": {
   "display_name": "Python 3",
   "language": "python",
   "name": "python3"
  },
  "language_info": {
   "codemirror_mode": {
    "name": "ipython",
    "version": 2
   },
   "file_extension": ".py",
   "mimetype": "text/x-python",
   "name": "python",
   "nbconvert_exporter": "python",
   "pygments_lexer": "ipython2",
   "version": "2.7.6"
  }
 },
 "nbformat": 4,
 "nbformat_minor": 0
}