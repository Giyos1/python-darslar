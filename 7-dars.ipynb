{
 "cells": [
  {
   "cell_type": "code",
   "execution_count": 3,
   "metadata": {
    "collapsed": true,
    "pycharm": {
     "name": "#%%\n"
    }
   },
   "outputs": [
    {
     "name": "stdout",
     "output_type": "stream",
     "text": [
      "aaaaaaaaaa\n",
      "                          12 Butts Wynd\n",
      "                          Twinklebottom Heath\n",
      "                          West Snoring\n",
      "\n",
      "\n",
      "Dear Sir\n",
      "\n",
      "I wish to report that tiles are missing from the\n",
      "outside toilet roof.\n",
      "I think it was bad wind the other night that blew them away.\n",
      "\n",
      "Regards\n",
      "Malcolm Dithering\n",
      "aaaaaaaaaa\n"
     ]
    }
   ],
   "source": [
    "print(10 * 'a')\n",
    "#\"a\"+\"a\" = 2*\"a\"\n",
    "spaces = ' ' * 25\n",
    "print(f'{spaces} 12 Butts Wynd')\n",
    "print('%s Twinklebottom Heath' % spaces)\n",
    "print('%s West Snoring' % spaces)\n",
    "print()\n",
    "print()\n",
    "print('Dear Sir')\n",
    "print()\n",
    "print('I wish to report that tiles are missing from the')\n",
    "print('outside toilet roof.')\n",
    "print('I think it was bad wind the other night that blew them away.')\n",
    "print()\n",
    "print('Regards')\n",
    "print('Malcolm Dithering')\n",
    "\n",
    "print(10 * 'a')\n"
   ]
  },
  {
   "cell_type": "code",
   "execution_count": 5,
   "outputs": [
    {
     "name": "stdout",
     "output_type": "stream",
     "text": [
      "[1, 1, 2, 3, 'hdsh']\n"
     ]
    }
   ],
   "source": [
    "fibs = (0, 1, 1, 2, 3)\n",
    "fibs = list(fibs)\n",
    "fibs.append('hdsh')\n",
    "fibs.remove(0)\n",
    "fibs = tuple(fibs)\n",
    "\n",
    "print(fibs)"
   ],
   "metadata": {
    "collapsed": false,
    "pycharm": {
     "name": "#%%\n"
    }
   }
  },
  {
   "cell_type": "code",
   "execution_count": null,
   "outputs": [],
   "source": [],
   "metadata": {
    "collapsed": false,
    "pycharm": {
     "name": "#%%\n"
    }
   }
  }
 ],
 "metadata": {
  "kernelspec": {
   "display_name": "Python 3",
   "language": "python",
   "name": "python3"
  },
  "language_info": {
   "codemirror_mode": {
    "name": "ipython",
    "version": 2
   },
   "file_extension": ".py",
   "mimetype": "text/x-python",
   "name": "python",
   "nbconvert_exporter": "python",
   "pygments_lexer": "ipython2",
   "version": "2.7.6"
  }
 },
 "nbformat": 4,
 "nbformat_minor": 0
}